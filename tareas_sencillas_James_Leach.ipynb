{
  "nbformat": 4,
  "nbformat_minor": 0,
  "metadata": {
    "colab": {
      "provenance": []
    },
    "kernelspec": {
      "name": "python3",
      "display_name": "Python 3"
    },
    "language_info": {
      "name": "python"
    }
  },
  "cells": [
    {
      "cell_type": "code",
      "execution_count": null,
      "metadata": {
        "colab": {
          "base_uri": "https://localhost:8080/"
        },
        "id": "AqE0thNuDqwu",
        "outputId": "a1061e36-0c0e-4f43-ff29-9b9d2eaa1327"
      },
      "outputs": [
        {
          "output_type": "stream",
          "name": "stdout",
          "text": [
            "Weight: 170\n",
            "K(g) or L(bs)l\n",
            "Weight in g: 0.37478584571429185\n"
          ]
        }
      ],
      "source": [
        "#weight converter\n",
        "weight = int(input(\"Weight: \"))\n",
        "unit = input (\"K(g) or L(bs)\")\n",
        "\n",
        "if unit.upper() == (\"K\"):\n",
        "  converted = weight*453.59237\n",
        "  print(\"Weight in bs: \" + str(converted))\n",
        "\n",
        "else:\n",
        "  unit.upper() == (\"L\")\n",
        "  converted = weight/453.59237\n",
        "  print (\"Weight in g: \" + str(converted))\n"
      ]
    },
    {
      "cell_type": "code",
      "source": [
        "i = 1\n",
        "\n",
        "while i<=10:\n",
        "  print(i * \"hello \")\n",
        "  i = i+1"
      ],
      "metadata": {
        "colab": {
          "base_uri": "https://localhost:8080/"
        },
        "id": "zeFiQQG_LnOV",
        "outputId": "3ec44096-d1a6-4b38-a203-378b70cf9755"
      },
      "execution_count": null,
      "outputs": [
        {
          "output_type": "stream",
          "name": "stdout",
          "text": [
            "hello \n",
            "hello hello \n",
            "hello hello hello \n",
            "hello hello hello hello \n",
            "hello hello hello hello hello \n",
            "hello hello hello hello hello hello \n",
            "hello hello hello hello hello hello hello \n",
            "hello hello hello hello hello hello hello hello \n",
            "hello hello hello hello hello hello hello hello hello \n",
            "hello hello hello hello hello hello hello hello hello hello \n"
          ]
        }
      ]
    },
    {
      "cell_type": "code",
      "source": [
        "#generating lists\n",
        "list = ['james','andy','louise','mollie']\n",
        "list.insert(0,'chris')\n",
        "list_length = len(list)\n",
        "print(list)\n",
        "print('louise' in list)\n",
        "print(list_length)\n",
        "\n",
        "for list2 in list:\n",
        "  print(list2)\n",
        "\n",
        "print(list[0:2])\n",
        "\n",
        "\n"
      ],
      "metadata": {
        "colab": {
          "base_uri": "https://localhost:8080/"
        },
        "id": "zcWyNTF9fP53",
        "outputId": "bebc0206-9d7c-45dd-a976-854bc35142ee"
      },
      "execution_count": 123,
      "outputs": [
        {
          "output_type": "stream",
          "name": "stdout",
          "text": [
            "['chris', 'james', 'andy', 'louise', 'mollie']\n",
            "True\n",
            "5\n",
            "chris\n",
            "james\n",
            "andy\n",
            "louise\n",
            "mollie\n",
            "['chris', 'james']\n"
          ]
        }
      ]
    },
    {
      "cell_type": "code",
      "source": [
        "#guessing game\n",
        "guess_limit = 3\n",
        "guess_count = 0\n",
        "answer = 9\n",
        "while guess_count < guess_limit:\n",
        "  guess= int(input('Guess: '))\n",
        "  guess_count += 1\n",
        "  if guess == answer:\n",
        "    print('Correct')\n",
        "    break\n",
        "  else:\n",
        "    print('try again')\n",
        "else:\n",
        "  print('Failed')"
      ],
      "metadata": {
        "colab": {
          "base_uri": "https://localhost:8080/"
        },
        "id": "jePqW89O5DN1",
        "outputId": "20104158-ffab-417b-8d89-28edd3062d44"
      },
      "execution_count": 74,
      "outputs": [
        {
          "output_type": "stream",
          "name": "stdout",
          "text": [
            "Guess: 9\n",
            "Correct\n"
          ]
        }
      ]
    },
    {
      "cell_type": "code",
      "source": [
        "#car game\n",
        "help = ('''\n",
        "start - to start the car\n",
        "stop - to stop the car \n",
        "quit - to exit''')\n",
        "start = ('Car Started. Ready to go!')\n",
        "stop = ('Car Stopped')\n",
        "started = False\n",
        "\n",
        "while True:\n",
        "  text = str(input('> ')).upper()\n",
        "  if text == ('HELP'):\n",
        "    print(help)\n",
        "  elif text == ('START'):\n",
        "    if started:\n",
        "      print('Car already Started')\n",
        "    else:\n",
        "      started = True\n",
        "      print(start)\n",
        "  elif text == ('STOP'):\n",
        "    if not started:\n",
        "      print('Car Already Stopped')\n",
        "    else:\n",
        "      started = False\n",
        "      print(stop)\n",
        "  elif text == ('QUIT'):\n",
        "    break\n",
        "  else:\n",
        "    print('I dont understand')\n"
      ],
      "metadata": {
        "colab": {
          "base_uri": "https://localhost:8080/"
        },
        "id": "6mFh0DgG8b3V",
        "outputId": "5f45d896-9526-452a-8749-12ff9ffedd13"
      },
      "execution_count": 113,
      "outputs": [
        {
          "name": "stdout",
          "output_type": "stream",
          "text": [
            "> stop\n",
            "Car Already Stopped\n",
            "> start\n",
            "Car Started. Ready to go!\n",
            "> start\n",
            "Car already Started\n",
            "> stop\n",
            "Car Stopped\n",
            "> stop\n",
            "Car Already Stopped\n",
            "> quit\n"
          ]
        }
      ]
    },
    {
      "cell_type": "code",
      "source": [
        "#addition calculator\n",
        "price_list = [10,20,30,40,50]\n",
        "total=0\n",
        "\n",
        "for price in price_list:\n",
        "  total += price\n",
        "print(f'Total: {total}' )\n"
      ],
      "metadata": {
        "colab": {
          "base_uri": "https://localhost:8080/"
        },
        "id": "RfP4SPLAKIO6",
        "outputId": "b1e80650-5e99-4c89-aec0-f664815c36cc"
      },
      "execution_count": 118,
      "outputs": [
        {
          "output_type": "stream",
          "name": "stdout",
          "text": [
            "Total: 150\n"
          ]
        }
      ]
    },
    {
      "cell_type": "code",
      "source": [
        "#generating coordiantes (nesting loops)\n",
        "for x in range(4):\n",
        "  for y in range(3):\n",
        "    print(f'({x}, {y})')"
      ],
      "metadata": {
        "colab": {
          "base_uri": "https://localhost:8080/",
          "height": 218
        },
        "id": "kcPgq_JQN8Oz",
        "outputId": "dd8c635f-8c18-430e-9968-70ce8856a667"
      },
      "execution_count": 147,
      "outputs": [
        {
          "output_type": "error",
          "ename": "TypeError",
          "evalue": "ignored",
          "traceback": [
            "\u001b[0;31m---------------------------------------------------------------------------\u001b[0m",
            "\u001b[0;31mTypeError\u001b[0m                                 Traceback (most recent call last)",
            "\u001b[0;32m<ipython-input-147-270302f93210>\u001b[0m in \u001b[0;36m<module>\u001b[0;34m\u001b[0m\n\u001b[1;32m      1\u001b[0m \u001b[0;31m#generating coordiantes (nesting loops)\u001b[0m\u001b[0;34m\u001b[0m\u001b[0;34m\u001b[0m\u001b[0;34m\u001b[0m\u001b[0m\n\u001b[0;32m----> 2\u001b[0;31m \u001b[0;32mfor\u001b[0m \u001b[0mx\u001b[0m \u001b[0;32min\u001b[0m \u001b[0mrange\u001b[0m\u001b[0;34m(\u001b[0m\u001b[0;36m4\u001b[0m\u001b[0;34m)\u001b[0m\u001b[0;34m:\u001b[0m\u001b[0;34m\u001b[0m\u001b[0;34m\u001b[0m\u001b[0m\n\u001b[0m\u001b[1;32m      3\u001b[0m   \u001b[0;32mfor\u001b[0m \u001b[0my\u001b[0m \u001b[0;32min\u001b[0m \u001b[0mrange\u001b[0m\u001b[0;34m(\u001b[0m\u001b[0;36m3\u001b[0m\u001b[0;34m)\u001b[0m\u001b[0;34m:\u001b[0m\u001b[0;34m\u001b[0m\u001b[0;34m\u001b[0m\u001b[0m\n\u001b[1;32m      4\u001b[0m     \u001b[0mprint\u001b[0m\u001b[0;34m(\u001b[0m\u001b[0;34mf'({x}, {y})'\u001b[0m\u001b[0;34m)\u001b[0m\u001b[0;34m\u001b[0m\u001b[0;34m\u001b[0m\u001b[0m\n",
            "\u001b[0;31mTypeError\u001b[0m: 'tuple' object is not callable"
          ]
        }
      ]
    },
    {
      "cell_type": "code",
      "source": [
        "#spelling letters using letters in rows\n",
        "number = [5,2,5,2,2]\n",
        "for x_count in number:\n",
        "  output =''\n",
        "  for count in range(x_count):\n",
        "    output += 'x'\n",
        "  print(output)\n",
        "\n",
        "number = [0,2,2,2,2,5]\n",
        "for x_count in number:\n",
        "  output =''\n",
        "  for count in range(x_count):\n",
        "    output += 'x'\n",
        "  print(output)"
      ],
      "metadata": {
        "id": "sXCv8vxEO6ft"
      },
      "execution_count": null,
      "outputs": []
    },
    {
      "cell_type": "code",
      "source": [
        "#finding the highest number in a list\n",
        "numbers = [5,2,10,8,4]\n",
        "\n",
        "max = numbers[0]\n",
        "for number in numbers:\n",
        "  if number > max:\n",
        "    max = number\n",
        "print(max)"
      ],
      "metadata": {
        "colab": {
          "base_uri": "https://localhost:8080/"
        },
        "id": "bUS2DBidVi9G",
        "outputId": "387881cd-94c1-43f7-8cf6-7170be66ed00"
      },
      "execution_count": 124,
      "outputs": [
        {
          "output_type": "stream",
          "name": "stdout",
          "text": [
            "10\n"
          ]
        }
      ]
    },
    {
      "cell_type": "code",
      "source": [
        "#appending, updating, counting & sorting lists\n",
        "numbers = [5,2,10,8,4,5]\n",
        "numbers.append(10)\n",
        "numbers.insert(0,100)\n",
        "numbers.remove(2)\n",
        "print(numbers)\n",
        "print(numbers.count(5))\n",
        "\n",
        "numbers.sort()\n",
        "print(numbers)"
      ],
      "metadata": {
        "colab": {
          "base_uri": "https://localhost:8080/"
        },
        "id": "Po14GPDTbACQ",
        "outputId": "e8049f11-cd80-41f2-ba2a-b784792c88f3"
      },
      "execution_count": 132,
      "outputs": [
        {
          "output_type": "stream",
          "name": "stdout",
          "text": [
            "[100, 5, 10, 8, 4, 5, 10]\n",
            "2\n",
            "[4, 5, 5, 8, 10, 10, 100]\n"
          ]
        }
      ]
    },
    {
      "cell_type": "code",
      "source": [
        "#removing duplicates in a list\n",
        "numbers = [5,2,10,8,4,5,10,10]\n",
        "uniques = []\n",
        "\n",
        "for number in numbers:\n",
        "  if number not in uniques:\n",
        "    uniques.append(number)\n",
        "print(uniques)\n"
      ],
      "metadata": {
        "colab": {
          "base_uri": "https://localhost:8080/"
        },
        "id": "bLCdiXM3c8UZ",
        "outputId": "e48fe2e7-43fa-4675-baaa-b61dcedfa0b8"
      },
      "execution_count": 144,
      "outputs": [
        {
          "output_type": "stream",
          "name": "stdout",
          "text": [
            "[5, 2, 10, 8, 4]\n"
          ]
        }
      ]
    },
    {
      "cell_type": "code",
      "source": [
        "#creating a diccionary\n",
        "customer = {\n",
        "    'Names': 'James Leach',\n",
        "    'Age' : 27,\n",
        "    'Verified' : True\n",
        "}\n",
        "customer['birthdate'] = 'Jan 21st'\n",
        "print(customer.get('birthday','Jan 21st'))\n",
        "print(customer['birthdate'])"
      ],
      "metadata": {
        "colab": {
          "base_uri": "https://localhost:8080/"
        },
        "id": "q9zL1Zh9iuRY",
        "outputId": "bd4b940f-5cd7-4d54-99b7-39a94bdbf07a"
      },
      "execution_count": 6,
      "outputs": [
        {
          "output_type": "stream",
          "name": "stdout",
          "text": [
            "Jan 21st\n",
            "Jan 21st\n"
          ]
        }
      ]
    },
    {
      "cell_type": "code",
      "source": [
        "#phone number conversion to text\n",
        "phone = input('Phone: ')\n",
        "numbers = {\n",
        "    '1':'one',\n",
        "    '2':'two',\n",
        "    '3':'three',\n",
        "    '4':'four',\n",
        "    '5':'five',\n",
        "    '6':'six',\n",
        "    '7':'seven',\n",
        "    '8':'eight',\n",
        "    '9':'nine'\n",
        "    }\n",
        "output=''\n",
        "for ch in phone:\n",
        "  output += numbers.get(ch,'NA') + ' '\n",
        "print(output)\n"
      ],
      "metadata": {
        "colab": {
          "base_uri": "https://localhost:8080/",
          "height": 236
        },
        "id": "I-UJk2wMA5t4",
        "outputId": "3e5f3585-eb75-4da1-bcc9-0d22dbc260ae"
      },
      "execution_count": 14,
      "outputs": [
        {
          "output_type": "error",
          "ename": "TypeError",
          "evalue": "ignored",
          "traceback": [
            "\u001b[0;31m---------------------------------------------------------------------------\u001b[0m",
            "\u001b[0;31mTypeError\u001b[0m                                 Traceback (most recent call last)",
            "\u001b[0;32m<ipython-input-14-fc8eefe06be3>\u001b[0m in \u001b[0;36m<module>\u001b[0;34m\u001b[0m\n\u001b[1;32m      1\u001b[0m \u001b[0;31m#phone number conversion to text\u001b[0m\u001b[0;34m\u001b[0m\u001b[0;34m\u001b[0m\u001b[0;34m\u001b[0m\u001b[0m\n\u001b[0;32m----> 2\u001b[0;31m \u001b[0mphone\u001b[0m \u001b[0;34m=\u001b[0m \u001b[0minput\u001b[0m\u001b[0;34m(\u001b[0m\u001b[0;34m'Phone: '\u001b[0m\u001b[0;34m)\u001b[0m\u001b[0;34m\u001b[0m\u001b[0;34m\u001b[0m\u001b[0m\n\u001b[0m\u001b[1;32m      3\u001b[0m numbers = {\n\u001b[1;32m      4\u001b[0m     \u001b[0;34m'1'\u001b[0m\u001b[0;34m:\u001b[0m\u001b[0;34m'one'\u001b[0m\u001b[0;34m,\u001b[0m\u001b[0;34m\u001b[0m\u001b[0;34m\u001b[0m\u001b[0m\n\u001b[1;32m      5\u001b[0m     \u001b[0;34m'2'\u001b[0m\u001b[0;34m:\u001b[0m\u001b[0;34m'two'\u001b[0m\u001b[0;34m,\u001b[0m\u001b[0;34m\u001b[0m\u001b[0;34m\u001b[0m\u001b[0m\n",
            "\u001b[0;31mTypeError\u001b[0m: 'str' object is not callable"
          ]
        }
      ]
    },
    {
      "cell_type": "code",
      "source": [
        "#Defs, Parameters & positional arguments\n",
        "def great_user(first_name, last_name):\n",
        "  print(f'hi {first_name} {last_name} ')\n",
        "  print('welcome aboard')\n",
        "\n",
        "print('James')\n",
        "great_user('John', 'Johnson')\n",
        "print('Bye James')"
      ],
      "metadata": {
        "colab": {
          "base_uri": "https://localhost:8080/"
        },
        "id": "eWPnmIxN9LAG",
        "outputId": "783e58d4-c8ee-49cc-fc0a-ded0a7fd75ae"
      },
      "execution_count": 6,
      "outputs": [
        {
          "output_type": "stream",
          "name": "stdout",
          "text": [
            "James\n",
            "hi John Johnson \n",
            "welcome aboard\n",
            "Bye James\n"
          ]
        }
      ]
    },
    {
      "cell_type": "code",
      "source": [
        "#recoding error messages\n",
        "try:\n",
        "  age = int(input('Age: '))\n",
        "  income = 20000\n",
        "  risk = income / age\n",
        "  print(age)\n",
        "except ValueError:\n",
        "  print('Invalud value')\n",
        "except ZeroDivisionError:\n",
        "  print ('Cannot devide by zero')\n"
      ],
      "metadata": {
        "colab": {
          "base_uri": "https://localhost:8080/"
        },
        "id": "4KZQ1TUGBiFV",
        "outputId": "dad14e6f-7f8a-4bd7-8f36-283b8161f1e1"
      },
      "execution_count": 11,
      "outputs": [
        {
          "output_type": "stream",
          "name": "stdout",
          "text": [
            "Age: 0\n",
            "Cannot devide by zero\n"
          ]
        }
      ]
    },
    {
      "cell_type": "code",
      "source": [
        "def person(first_name):\n",
        "  print(f'Hi {first_name} ')\n",
        "\n",
        "def feelings():\n",
        "  print()\n",
        "\n",
        "print('Say Hi...')\n",
        "message = input('>')\n",
        "person('James')\n",
        "print('Arent you going to ask me how I am?...')\n",
        "message2 = input('>')"
      ],
      "metadata": {
        "colab": {
          "base_uri": "https://localhost:8080/"
        },
        "id": "OV3uYMNMJW14",
        "outputId": "4ab631e9-7bbf-468c-dc6a-785192ecd147"
      },
      "execution_count": 22,
      "outputs": [
        {
          "name": "stdout",
          "output_type": "stream",
          "text": [
            "Say Hi...\n",
            ">Hi\n",
            "Hi James \n",
            "Arent you going to ask me how I am?...\n",
            ">How are you?\n"
          ]
        }
      ]
    }
  ]
}